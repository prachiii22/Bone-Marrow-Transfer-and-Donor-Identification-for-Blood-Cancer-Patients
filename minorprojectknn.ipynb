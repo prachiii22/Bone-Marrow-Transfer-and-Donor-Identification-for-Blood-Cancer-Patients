{
  "nbformat": 4,
  "nbformat_minor": 0,
  "metadata": {
    "colab": {
      "provenance": [],
      "toc_visible": true
    },
    "kernelspec": {
      "name": "python3",
      "display_name": "Python 3"
    },
    "language_info": {
      "name": "python"
    }
  },
  "cells": [
    {
      "cell_type": "code",
      "source": [
        "!pip install numpy pandas scikit-learn matplotlib seaborn"
      ],
      "metadata": {
        "colab": {
          "base_uri": "https://localhost:8080/"
        },
        "id": "UYmjdXx1v0Kl",
        "outputId": "6cea7103-b73e-47e2-872a-2b9547ecb575"
      },
      "execution_count": null,
      "outputs": [
        {
          "output_type": "stream",
          "name": "stdout",
          "text": [
            "Requirement already satisfied: numpy in /usr/local/lib/python3.10/dist-packages (1.26.4)\n",
            "Requirement already satisfied: pandas in /usr/local/lib/python3.10/dist-packages (2.2.2)\n",
            "Requirement already satisfied: scikit-learn in /usr/local/lib/python3.10/dist-packages (1.5.2)\n",
            "Requirement already satisfied: matplotlib in /usr/local/lib/python3.10/dist-packages (3.8.0)\n",
            "Requirement already satisfied: seaborn in /usr/local/lib/python3.10/dist-packages (0.13.2)\n",
            "Requirement already satisfied: python-dateutil>=2.8.2 in /usr/local/lib/python3.10/dist-packages (from pandas) (2.8.2)\n",
            "Requirement already satisfied: pytz>=2020.1 in /usr/local/lib/python3.10/dist-packages (from pandas) (2024.2)\n",
            "Requirement already satisfied: tzdata>=2022.7 in /usr/local/lib/python3.10/dist-packages (from pandas) (2024.2)\n",
            "Requirement already satisfied: scipy>=1.6.0 in /usr/local/lib/python3.10/dist-packages (from scikit-learn) (1.13.1)\n",
            "Requirement already satisfied: joblib>=1.2.0 in /usr/local/lib/python3.10/dist-packages (from scikit-learn) (1.4.2)\n",
            "Requirement already satisfied: threadpoolctl>=3.1.0 in /usr/local/lib/python3.10/dist-packages (from scikit-learn) (3.5.0)\n",
            "Requirement already satisfied: contourpy>=1.0.1 in /usr/local/lib/python3.10/dist-packages (from matplotlib) (1.3.1)\n",
            "Requirement already satisfied: cycler>=0.10 in /usr/local/lib/python3.10/dist-packages (from matplotlib) (0.12.1)\n",
            "Requirement already satisfied: fonttools>=4.22.0 in /usr/local/lib/python3.10/dist-packages (from matplotlib) (4.55.0)\n",
            "Requirement already satisfied: kiwisolver>=1.0.1 in /usr/local/lib/python3.10/dist-packages (from matplotlib) (1.4.7)\n",
            "Requirement already satisfied: packaging>=20.0 in /usr/local/lib/python3.10/dist-packages (from matplotlib) (24.2)\n",
            "Requirement already satisfied: pillow>=6.2.0 in /usr/local/lib/python3.10/dist-packages (from matplotlib) (11.0.0)\n",
            "Requirement already satisfied: pyparsing>=2.3.1 in /usr/local/lib/python3.10/dist-packages (from matplotlib) (3.2.0)\n",
            "Requirement already satisfied: six>=1.5 in /usr/local/lib/python3.10/dist-packages (from python-dateutil>=2.8.2->pandas) (1.16.0)\n"
          ]
        }
      ]
    },
    {
      "cell_type": "code",
      "source": [
        "import numpy as np\n",
        "import pandas as pd\n",
        "from sklearn.model_selection import train_test_split\n",
        "from sklearn.neighbors import KNeighborsClassifier\n",
        "from sklearn.metrics import accuracy_score\n",
        "import seaborn as sns\n",
        "import matplotlib.pyplot as plt"
      ],
      "metadata": {
        "id": "syxjSzCYvcW2"
      },
      "execution_count": null,
      "outputs": []
    },
    {
      "cell_type": "code",
      "source": [
        "from sklearn.metrics import confusion_matrix, classification_report\n",
        "from sklearn.preprocessing import StandardScaler\n",
        "import matplotlib.pyplot as plt\n",
        "import joblib"
      ],
      "metadata": {
        "id": "-vpyWqBevfUc"
      },
      "execution_count": null,
      "outputs": []
    },
    {
      "cell_type": "code",
      "source": [
        "data = pd.read_csv(\"/content/blood_cancer_data.csv\")"
      ],
      "metadata": {
        "id": "T9LUnLafO_Jd"
      },
      "execution_count": null,
      "outputs": []
    },
    {
      "cell_type": "code",
      "source": [
        "# Convert categorical attributes to numerical\n",
        "data['blood_type'] = data['blood_type'].astype('category').cat.codes\n",
        "data['hla_typing'] = data['hla_typing'].astype('category').cat.codes"
      ],
      "metadata": {
        "id": "XfPZZS-0vh9E"
      },
      "execution_count": null,
      "outputs": []
    },
    {
      "cell_type": "code",
      "source": [
        "# Features and target variable\n",
        "X = data[['age', 'blood_type', 'hla_typing']]\n",
        "y = data['compatible']"
      ],
      "metadata": {
        "id": "DQX32tJWwDyk"
      },
      "execution_count": null,
      "outputs": []
    },
    {
      "cell_type": "code",
      "source": [
        "# Scale features\n",
        "scaler = StandardScaler()\n",
        "X = scaler.fit_transform(X)"
      ],
      "metadata": {
        "id": "B1XJg9d2vkns"
      },
      "execution_count": null,
      "outputs": []
    },
    {
      "cell_type": "code",
      "source": [
        "# Scale features\n",
        "scaler = StandardScaler()\n",
        "X = scaler.fit_transform(X)"
      ],
      "metadata": {
        "id": "XqNmc51-wOys"
      },
      "execution_count": null,
      "outputs": []
    },
    {
      "cell_type": "markdown",
      "source": [
        "Train And Test split"
      ],
      "metadata": {
        "id": "nFMbGls58naa"
      }
    },
    {
      "cell_type": "code",
      "source": [
        "X_train, X_test, y_train, y_test = train_test_split(X, y, test_size=0.2, random_state=42)"
      ],
      "metadata": {
        "id": "ma7smwXawUNz"
      },
      "execution_count": null,
      "outputs": []
    },
    {
      "cell_type": "code",
      "source": [
        "X"
      ],
      "metadata": {
        "colab": {
          "base_uri": "https://localhost:8080/"
        },
        "id": "gWqU7KhIwnLL",
        "outputId": "3fa0ccaa-ee8e-4d84-d9dc-4c3d22785d66"
      },
      "execution_count": null,
      "outputs": [
        {
          "output_type": "execute_result",
          "data": {
            "text/plain": [
              "array([[-1.46567777, -1.27985309, -1.22186108],\n",
              "       [-0.58802641,  0.39315749,  1.43435866],\n",
              "       [ 0.41500371, -0.4433478 , -0.3364545 ],\n",
              "       [-0.96416271,  1.22966277, -1.22186108],\n",
              "       [-0.46264764, -1.27985309,  1.43435866],\n",
              "       [ 0.03886742,  1.22966277, -0.3364545 ],\n",
              "       [ 1.04189754,  0.39315749, -1.22186108],\n",
              "       [ 1.66879137, -0.4433478 ,  1.43435866],\n",
              "       [-1.08954147, -1.27985309,  0.54895208],\n",
              "       [-0.71340518,  1.22966277, -1.22186108],\n",
              "       [-0.08651135,  0.39315749, -0.3364545 ],\n",
              "       [ 0.66576124, -1.27985309, -1.22186108],\n",
              "       [ 1.41803384, -0.4433478 , -0.3364545 ],\n",
              "       [-1.340299  ,  1.22966277,  0.54895208],\n",
              "       [-0.33726888,  0.39315749,  1.43435866],\n",
              "       [ 0.16424618, -1.27985309, -1.22186108],\n",
              "       [ 0.91651878,  1.22966277,  1.43435866],\n",
              "       [-0.83878394, -0.4433478 , -0.3364545 ],\n",
              "       [ 0.28962495, -1.27985309,  0.54895208],\n",
              "       [ 1.29265507,  0.39315749, -1.22186108],\n",
              "       [-1.84181406,  1.22966277, -1.22186108],\n",
              "       [ 0.54038248, -0.4433478 ,  0.54895208],\n",
              "       [-0.21189011, -1.27985309,  1.43435866],\n",
              "       [ 1.16727631,  0.39315749, -0.3364545 ],\n",
              "       [-0.96416271,  1.22966277, -0.3364545 ],\n",
              "       [-0.71340518, -1.27985309, -1.22186108],\n",
              "       [ 1.5434126 ,  0.39315749,  1.43435866],\n",
              "       [-0.46264764, -0.4433478 ,  0.54895208],\n",
              "       [-1.08954147,  1.22966277, -1.22186108],\n",
              "       [-0.83878394, -1.27985309,  1.43435866],\n",
              "       [ 0.41500371,  0.39315749, -0.3364545 ],\n",
              "       [ 1.04189754,  1.22966277, -1.22186108],\n",
              "       [ 0.03886742, -1.27985309,  0.54895208],\n",
              "       [-1.340299  ,  0.39315749,  1.43435866],\n",
              "       [-0.33726888, -0.4433478 , -0.3364545 ],\n",
              "       [ 0.54038248, -1.27985309, -1.22186108],\n",
              "       [ 0.79114001,  1.22966277,  0.54895208],\n",
              "       [-0.08651135,  0.39315749,  1.43435866],\n",
              "       [-0.58802641, -0.4433478 , -0.3364545 ],\n",
              "       [ 1.66879137, -1.27985309,  0.54895208],\n",
              "       [-1.21492024,  1.22966277, -1.22186108],\n",
              "       [ 1.41803384,  0.39315749,  1.43435866],\n",
              "       [ 0.66576124, -1.27985309, -0.3364545 ],\n",
              "       [ 0.28962495,  1.22966277,  0.54895208],\n",
              "       [ 1.16727631, -1.27985309,  1.43435866],\n",
              "       [-0.21189011, -0.4433478 , -1.22186108],\n",
              "       [ 0.91651878,  0.39315749,  0.54895208],\n",
              "       [ 0.41500371,  1.22966277, -0.3364545 ],\n",
              "       [-0.83878394, -1.27985309,  1.43435866],\n",
              "       [-0.71340518,  0.39315749, -1.22186108],\n",
              "       [-0.46264764, -0.4433478 , -0.3364545 ],\n",
              "       [ 0.16424618,  1.22966277, -1.22186108],\n",
              "       [-1.08954147, -1.27985309,  0.54895208],\n",
              "       [ 1.29265507,  0.39315749,  1.43435866],\n",
              "       [ 1.5434126 , -1.27985309, -1.22186108],\n",
              "       [ 0.79114001,  1.22966277, -0.3364545 ],\n",
              "       [-1.96719283, -1.27985309,  0.54895208],\n",
              "       [ 0.16424618,  0.39315749,  0.54895208],\n",
              "       [-1.46567777,  1.22966277, -0.3364545 ],\n",
              "       [ 0.28962495, -1.27985309, -1.22186108],\n",
              "       [ 1.04189754,  1.22966277, -1.22186108],\n",
              "       [-0.58802641,  0.39315749,  1.43435866],\n",
              "       [-1.08954147,  1.22966277, -0.3364545 ],\n",
              "       [-0.71340518, -1.27985309,  0.54895208],\n",
              "       [ 1.41803384,  0.39315749,  1.43435866],\n",
              "       [-1.21492024, -1.27985309,  1.43435866],\n",
              "       [ 0.54038248,  1.22966277, -1.22186108],\n",
              "       [ 1.66879137,  0.39315749, -0.3364545 ],\n",
              "       [-1.84181406, -0.4433478 , -0.3364545 ],\n",
              "       [ 1.16727631,  1.22966277, -1.22186108],\n",
              "       [-0.33726888, -1.27985309,  0.54895208],\n",
              "       [-0.96416271,  0.39315749, -0.3364545 ],\n",
              "       [ 0.91651878,  1.22966277, -0.3364545 ],\n",
              "       [ 0.03886742, -1.27985309, -1.22186108],\n",
              "       [-0.83878394,  1.22966277,  1.43435866],\n",
              "       [-0.46264764,  0.39315749,  0.54895208],\n",
              "       [-0.21189011, -0.4433478 ,  1.43435866],\n",
              "       [ 0.41500371, -1.27985309, -0.3364545 ],\n",
              "       [ 0.66576124,  0.39315749,  0.54895208],\n",
              "       [ 1.5434126 , -0.4433478 , -1.22186108],\n",
              "       [-0.08651135,  1.22966277, -0.3364545 ],\n",
              "       [-1.340299  , -1.27985309,  0.54895208],\n",
              "       [ 1.29265507,  0.39315749, -0.3364545 ],\n",
              "       [ 1.04189754,  1.22966277,  0.54895208],\n",
              "       [ 0.28962495, -1.27985309,  1.43435866],\n",
              "       [ 0.79114001,  1.22966277, -1.22186108],\n",
              "       [ 1.66879137, -1.27985309,  1.43435866],\n",
              "       [-1.96719283, -0.4433478 , -0.3364545 ],\n",
              "       [ 0.16424618,  1.22966277,  0.54895208],\n",
              "       [-0.96416271, -1.27985309, -1.22186108],\n",
              "       [ 1.16727631,  0.39315749, -0.3364545 ],\n",
              "       [-0.46264764,  1.22966277, -1.22186108],\n",
              "       [-0.58802641, -0.4433478 , -1.22186108],\n",
              "       [ 0.54038248,  0.39315749,  1.43435866],\n",
              "       [-1.08954147,  1.22966277, -0.3364545 ],\n",
              "       [-0.33726888, -1.27985309,  1.43435866],\n",
              "       [-1.46567777, -0.4433478 , -1.22186108],\n",
              "       [ 1.41803384,  0.39315749, -0.3364545 ],\n",
              "       [ 0.28962495,  1.22966277, -1.22186108],\n",
              "       [-1.96719283, -1.27985309,  0.54895208]])"
            ]
          },
          "metadata": {},
          "execution_count": 55
        }
      ]
    },
    {
      "cell_type": "code",
      "source": [
        "y.shape"
      ],
      "metadata": {
        "colab": {
          "base_uri": "https://localhost:8080/"
        },
        "id": "pE37l9aMxceD",
        "outputId": "f3dbfe79-0794-4740-b1c9-8464ad797492"
      },
      "execution_count": null,
      "outputs": [
        {
          "output_type": "execute_result",
          "data": {
            "text/plain": [
              "(100,)"
            ]
          },
          "metadata": {},
          "execution_count": 65
        }
      ]
    },
    {
      "cell_type": "code",
      "source": [
        "X_train, X_test, y_train, y_test = train_test_split(X, y, test_size=0.2, random_state=42)"
      ],
      "metadata": {
        "id": "5eIfyw-MwzDN"
      },
      "execution_count": null,
      "outputs": []
    },
    {
      "cell_type": "code",
      "source": [
        "X_train.shape"
      ],
      "metadata": {
        "colab": {
          "base_uri": "https://localhost:8080/"
        },
        "id": "DeNo15OAxlYa",
        "outputId": "90fbe230-f7c8-41c9-ab3c-6240765cbc5c"
      },
      "execution_count": null,
      "outputs": [
        {
          "output_type": "execute_result",
          "data": {
            "text/plain": [
              "(80, 3)"
            ]
          },
          "metadata": {},
          "execution_count": 67
        }
      ]
    },
    {
      "cell_type": "code",
      "source": [
        "X_test.shape"
      ],
      "metadata": {
        "colab": {
          "base_uri": "https://localhost:8080/"
        },
        "id": "dH-r2Ka4xnRD",
        "outputId": "db487534-9a15-4028-8de2-733ef0341bc9"
      },
      "execution_count": null,
      "outputs": [
        {
          "output_type": "execute_result",
          "data": {
            "text/plain": [
              "(20, 3)"
            ]
          },
          "metadata": {},
          "execution_count": 68
        }
      ]
    },
    {
      "cell_type": "markdown",
      "source": [
        "APPLYING KNN ALGO"
      ],
      "metadata": {
        "id": "gv95I9ne7Eo8"
      }
    },
    {
      "cell_type": "code",
      "source": [
        "from sklearn.neighbors import KNeighborsClassifier\n",
        "KNN = KNeighborsClassifier()\n",
        "\n",
        "model = KNN.fit(X_train,y_train)"
      ],
      "metadata": {
        "id": "d9J38uJw8RCj"
      },
      "execution_count": null,
      "outputs": []
    },
    {
      "cell_type": "markdown",
      "source": [
        "Train and evaluate KNN for multiple K values\n"
      ],
      "metadata": {
        "id": "rIlOuo-0YpZv"
      }
    },
    {
      "cell_type": "code",
      "source": [
        "k_values = range(1, 21)  # Test K values from 1 to 20\n",
        "accuracy_test = []\n",
        "\n",
        "for k in k_values:\n",
        "    knn = KNeighborsClassifier(n_neighbors=k)\n",
        "    knn.fit(X_train, y_train)\n",
        "    accuracy_test.append(knn.score(X_test, y_test))"
      ],
      "metadata": {
        "id": "JLetP-g3YsOt"
      },
      "execution_count": null,
      "outputs": []
    },
    {
      "cell_type": "markdown",
      "source": [
        "accuracy of the model"
      ],
      "metadata": {
        "id": "lBxP8kEox436"
      }
    },
    {
      "cell_type": "code",
      "source": [
        "model.score(X_train , y_train)"
      ],
      "metadata": {
        "colab": {
          "base_uri": "https://localhost:8080/"
        },
        "id": "rf-MQKfMTxQr",
        "outputId": "565abc26-8297-4482-e63e-088090ab99d7"
      },
      "execution_count": null,
      "outputs": [
        {
          "output_type": "execute_result",
          "data": {
            "text/plain": [
              "0.8125"
            ]
          },
          "metadata": {},
          "execution_count": 79
        }
      ]
    },
    {
      "cell_type": "code",
      "source": [
        "# Plotting KNN performance\n",
        "plt.figure(figsize=(10, 6))\n",
        "plt.plot(k_values, accuracy_test, label='Test Accuracy', marker='o', color='b')\n",
        "plt.xlabel('Number of Neighbors (K)')\n",
        "plt.ylabel('Accuracy')\n",
        "plt.title('KNN Accuracy for Different K Values')\n",
        "plt.legend()\n",
        "plt.grid(True)\n",
        "plt.show()"
      ],
      "metadata": {
        "colab": {
          "base_uri": "https://localhost:8080/",
          "height": 564
        },
        "id": "oWIYCeS1x9vt",
        "outputId": "fefbe322-26e6-477a-bdc5-7ec72cb682e5"
      },
      "execution_count": null,
      "outputs": [
        {
          "output_type": "display_data",
          "data": {
            "text/plain": [
              "<Figure size 1000x600 with 1 Axes>"
            ],
            "image/png": "[encoded data removed]"
          },
          "metadata": {}
        }
      ]
    },
    {
      "cell_type": "code",
      "source": [
        "# Save the trained model\n",
        "import pickle as pkl\n",
        "with open('minorprojectknn.pkl' , 'wb') as f:\n",
        "    pkl.dump(model,f)"
      ],
      "metadata": {
        "id": "NIDU4gArRAAj"
      },
      "execution_count": null,
      "outputs": []
    }
  ]
}